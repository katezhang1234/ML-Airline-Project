{
  "cells": [
    {
      "cell_type": "code",
      "execution_count": null,
      "metadata": {
        "id": "N2lcVaRs_Bdy"
      },
      "outputs": [],
      "source": [
        "# William Gunawan, Kenji Nakachi, Andrew Fortner, Kate Zhang"
      ]
    },
    {
      "attachments": {},
      "cell_type": "markdown",
      "metadata": {},
      "source": [
        "<h1> Overview </h1>\n",
        "\n",
        "We chose the Airline Passenger Satisfaction Dataset from Kaggle (https://www.kaggle.com/datasets/teejmahal20/airline-passenger-satisfaction).\\\n",
        "The features are described in the next section *Column Context*.\\\n",
        "Our goal is to predict \"Customer Satisfcation\" given all of the other features. \n",
        "\n",
        "<h2>Column Context:</h2>\n",
        "\n",
        "*Gender:* Gender of the passengers **(Female, Male)**\n",
        "\n",
        "*Customer Type:* The customer type **(Loyal customer, disloyal customer)**\n",
        "\n",
        "*Age:* The actual age of the passengers **(years)**\n",
        "\n",
        "*Type of Travel:* Purpose of the flight of the passengers **(Personal Travel, Business Travel)**\n",
        "\n",
        "*Class:* Travel class in the plane of the passengers **(Business, Eco, Eco Plus)**\n",
        "\n",
        "*Flight distance:* The flight distance of this journey **(miles)**\n",
        "\n",
        "*Inflight wifi service:* Satisfaction level **(0:Not Applicable;1-5)**\n",
        "\n",
        "*Departure/Arrival time convenient:* Satisfaction level **(0:Not Applicable;1-5)**\n",
        "\n",
        "*Ease of Online booking:* Satisfaction level **(0:Not Applicable;1-5)**\n",
        "\n",
        "*Gate location:* Satisfaction level **(0:Not Applicable;1-5)**\n",
        "\n",
        "*Food and drink:* Satisfaction level **(0:Not Applicable;1-5)**\n",
        "\n",
        "*Online boarding:* Satisfaction level **(0:Not Applicable;1-5)**\n",
        "\n",
        "*Seat comfort:* Satisfaction level **(0:Not Applicable;1-5)**\n",
        "\n",
        "*Inflight entertainment:* Satisfaction level **(0:Not Applicable;1-5)**\n",
        "\n",
        "*On-board service:* Satisfaction level **(0:Not Applicable;1-5)**\n",
        "\n",
        "*Leg room service:* Satisfaction level **(0:Not Applicable;1-5)**\n",
        "\n",
        "*Baggage handling:* Satisfaction level **(0:Not Applicable;1-5)**\n",
        "\n",
        "*Check-in service:* Satisfaction level **(0:Not Applicable;1-5)**\n",
        "\n",
        "*Inflight service:* Satisfaction level **(0:Not Applicable;1-5)**\n",
        "\n",
        "*Cleanliness:* Satisfaction level **(0:Not Applicable;1-5)**\n",
        "\n",
        "*Departure Delay in Minutes:* Minutes delayed when departure **(Minutes)**\n",
        "\n",
        "*Arrival Delay in Minutes:* Minutes delayed when Arrival **(Minutes)**\n",
        "\n",
        "*Satisfaction:* Airline satisfaction level **(Satisfaction, neutral or dissatisfaction)**"
      ]
    },
    {
      "cell_type": "code",
      "execution_count": null,
      "metadata": {
        "id": "qFvRMOwYBfmo"
      },
      "outputs": [],
      "source": [
        "# Import packages\n",
        "import pandas as pd\n",
        "import numpy as np\n",
        "import sklearn as sk\n",
        "from sklearn.impute import SimpleImputer\n",
        "from sklearn.impute import KNNImputer\n"
      ]
    },
    {
      "cell_type": "code",
      "execution_count": null,
      "metadata": {
        "colab": {
          "base_uri": "https://localhost:8080/",
          "height": 438
        },
        "id": "gv4L-3DfAXNW",
        "outputId": "5de34d87-2857-4303-947b-885f4ba79b14"
      },
      "outputs": [],
      "source": [
        "# Download data\n",
        "data = pd.read_csv(\"https://raw.githubusercontent.com/katezhang1234/ML_Airline_Project/main/train.csv\")\n",
        "data.head(5)"
      ]
    },
    {
      "attachments": {},
      "cell_type": "markdown",
      "metadata": {},
      "source": [
        "<h1> Step 1: Data Cleaning </h1>\n",
        "<h3> 1.1: Remove Unnecessary Columns </h3>\n",
        "\n",
        "We don't want to use features like *ID* in our classification, so we drop these unnecessary features"
      ]
    },
    {
      "cell_type": "code",
      "execution_count": null,
      "metadata": {},
      "outputs": [],
      "source": [
        "# Check for duplicated rows\n",
        "print(\"Duplicated IDs: \",data['id'].duplicated().sum())\n",
        "\n",
        "# Drop id and Unnamed columns -- we do not want to use these as features\n",
        "data = data.drop(['Unnamed: 0', 'id'], axis=1)\n",
        "data.head(5)"
      ]
    },
    {
      "attachments": {},
      "cell_type": "markdown",
      "metadata": {},
      "source": [
        "<h3> 1.2: Encoding Categorical Values </h3>\n",
        "\n",
        "In order to impute missing values, we need to encode our categorical values into numerical values"
      ]
    },
    {
      "cell_type": "code",
      "execution_count": null,
      "metadata": {},
      "outputs": [],
      "source": [
        "#One hot encoding of categorical variables\n",
        "categorical_variables = ['Gender', 'Customer Type', 'Type of Travel', 'Class', 'satisfaction']\n",
        "\n",
        "df_encoded = pd.get_dummies(data, columns=categorical_variables)\n",
        "df_encoded.drop(['Gender_Female', 'Customer Type_disloyal Customer', 'Type of Travel_Business travel', 'Class_Eco', 'Class_Eco Plus', 'satisfaction_neutral or dissatisfied'], axis=1, inplace=True)\n",
        "\n",
        "labels = df_encoded['satisfaction_satisfied']\n",
        "df_encoded.drop(['satisfaction_satisfied'], axis=1, inplace=True)\n",
        "# Print the first five rows of the encoded DataFrame\n",
        "df_encoded.head()"
      ]
    },
    {
      "cell_type": "code",
      "execution_count": null,
      "metadata": {},
      "outputs": [],
      "source": [
        "# Check for 0s / nulls / missing values\n",
        "nan_count = df_encoded.isna().sum().sum()\n",
        "print(\"Training Set Missing values = \", nan_count)\n",
        "df_encoded[df_encoded.isna().any(axis=1)]"
      ]
    },
    {
      "attachments": {},
      "cell_type": "markdown",
      "metadata": {},
      "source": [
        "<h3>1.3 Split Into Test & Train Sets & Impute Missing Data</h3>"
      ]
    },
    {
      "cell_type": "code",
      "execution_count": null,
      "metadata": {},
      "outputs": [],
      "source": [
        "from sklearn.model_selection import train_test_split\n",
        "# split data\n",
        "\n",
        "X_train, X_test, y_train, y_test = train_test_split(df_encoded, labels, test_size=0.2, random_state=42)\n",
        "\n",
        "# Impute Arrival Delay in Minutes column with mean\n",
        "# We're only doing this column since this is the only column with NaN values (seen from above)\n",
        "mean_value_train = X_train['Arrival Delay in Minutes'].mean()\n",
        "X_train['Arrival Delay in Minutes'].fillna(value=mean_value_train, inplace=True)\n",
        "nan_count_train = X_train.isna().sum().sum()\n",
        "print(\"Training Set Missing values = \", nan_count_train)\n",
        "\n",
        "mean_value_test = X_test['Arrival Delay in Minutes'].mean()\n",
        "X_test['Arrival Delay in Minutes'].fillna(value=mean_value_test, inplace=True)\n",
        "nan_count_test = X_test.isna().sum().sum()\n",
        "print(\"Test Set Missing values = \", nan_count_test)"
      ]
    },
    {
      "attachments": {},
      "cell_type": "markdown",
      "metadata": {},
      "source": [
        "<h2>Step 2: Data Exploration</h2>"
      ]
    },
    {
      "cell_type": "code",
      "execution_count": null,
      "metadata": {},
      "outputs": [],
      "source": [
        "# Data Exploration\n",
        "combined_train_df = X_train.join(y_train)\n",
        "combined_train_df.corr()['satisfaction_satisfied']"
      ]
    },
    {
      "cell_type": "code",
      "execution_count": null,
      "metadata": {},
      "outputs": [],
      "source": [
        "import seaborn as sns\n",
        "# Univariate: boxplot, histogram\n",
        "sns.boxplot(x=\"Class_Business\", y=\"satisfaction_satisfied\", data=combined_train_df)\n",
        "# Bivariate: scatter plot, correlation coefficient\n",
        "# Check for class imbalance\n",
        "# Look for outliers/noise"
      ]
    },
    {
      "cell_type": "code",
      "execution_count": null,
      "metadata": {},
      "outputs": [],
      "source": [
        "sns.boxplot(x=\"satisfaction_satisfied\", y=\"Seat comfort\", data=combined_train_df)"
      ]
    },
    {
      "cell_type": "code",
      "execution_count": null,
      "metadata": {},
      "outputs": [],
      "source": [
        "sns.boxplot(x=\"satisfaction_satisfied\", y=\"Inflight entertainment\", data=combined_train_df)\n",
        "\n",
        "# We chose to keep all outliers/noise because flyers could've been satisifed/dissatisfied by the flight for other reasons than just\n",
        "# the individual columns we are plotting."
      ]
    },
    {
      "cell_type": "code",
      "execution_count": null,
      "metadata": {},
      "outputs": [],
      "source": [
        "from sklearn.decomposition import PCA\n",
        "from sklearn.preprocessing import StandardScaler\n",
        "# Feature Engineering\n",
        "# Feature transformation, selection, creation\n",
        "#       Selection: sampling to reduce dataset size?\n",
        "#       Creation: aggregation\n",
        "\n",
        "# Feature scaling: normalization/standardization\n",
        "scaler = StandardScaler().fit_transform(X_train)\n",
        "# scaled_features_df = pd.DataFrame(scaled_data, index=leaf_data.index, columns=leaf_data.columns)\n",
        "scaled_data = pd.DataFrame(scaler, columns=X_train.columns)\n",
        "scaled_data.head(5)\n",
        "print(\"Means for All Columns\")\n",
        "print(scaled_data.mean())\n",
        "print(\"\\nStandard Deviations for All Columns\")\n",
        "print(scaled_data.std())\n",
        "\n",
        "\n",
        "# Deal with outliers - histogram\n",
        "#       Delete, impute, binning\n",
        "# Dimensionality reduction\n",
        "# One-hot encoding categorical variables? This may be dependent on the ML techniques used"
      ]
    },
    {
      "cell_type": "code",
      "execution_count": null,
      "metadata": {},
      "outputs": [],
      "source": [
        "# We chose to reduce the dataset size as we have a lot of un-helpful features that don't have a strong correlation with the label\n",
        "# satisfaction_satisfied.\n",
        "pca = PCA(n_components=0.95, svd_solver='full')\n",
        "transform = pca.fit_transform(scaled_data)\n",
        "pca_data = pd.DataFrame(transform)\n",
        "pca_data.head(5)"
      ]
    },
    {
      "cell_type": "code",
      "execution_count": null,
      "metadata": {},
      "outputs": [],
      "source": [
        "# Clustering ... this might also count as data exploration\n",
        "# Look for natural patterns in the data\n",
        "# Optional, if we have time\n",
        "\n",
        "# K-means\n"
      ]
    },
    {
      "cell_type": "code",
      "execution_count": null,
      "metadata": {},
      "outputs": [],
      "source": [
        "import matplotlib.pyplot as plt\n",
        "from sklearn.neighbors import NearestNeighbors\n",
        "import random\n",
        "from sklearn.manifold import MDS\n",
        "\n",
        "def scatter(data, labels, numPoints = 10000):\n",
        "\n",
        "    numEntries = data.shape[0]\n",
        "    start = random.randint(0, numEntries - numPoints)\n",
        "    end = start + numPoints\n",
        "    data = data.iloc[start:end, :]\n",
        "    labels = labels.iloc[start:end]\n",
        "    \n",
        "    mds = MDS(n_components=2)\n",
        "    mds_data = mds.fit_transform(data)\n",
        "    plt.scatter(mds_data[:, 0], mds_data[:, 1], c=labels, s=50)\n",
        "    plt.show()\n",
        "\n",
        "scatter(pca_data, labels)"
      ]
    },
    {
      "cell_type": "code",
      "execution_count": null,
      "metadata": {},
      "outputs": [],
      "source": [
        "# Find DBScan nearest neighbors\n",
        "\n",
        "neigh = NearestNeighbors(n_neighbors=6)\n",
        "neigh.fit(pca_data)\n",
        "distances,indices = neigh.kneighbors(pca_data)\n",
        "\n",
        "sorted_distances = sorted(distances, key=lambda x:x[5])\n",
        "plt.plot(sorted_distances)\n",
        "plt.show()\n",
        "\n",
        "# Hierarchical clustering\n",
        "\n",
        "# Anomaly detection"
      ]
    },
    {
      "cell_type": "code",
      "execution_count": null,
      "metadata": {},
      "outputs": [],
      "source": [
        "from sklearn.cluster import DBSCAN\n",
        "# DBScan\n",
        "db_scan = DBSCAN(min_samples=4, eps=3)\n",
        "dbscan_labels = db_scan.fit_predict(pca_data)\n",
        "\n",
        "labels_series = pd.Series(dbscan_labels)\n",
        "scatter(pca_data, labels_series)"
      ]
    },
    {
      "cell_type": "code",
      "execution_count": null,
      "metadata": {},
      "outputs": [],
      "source": [
        "# Modeling - Regression\n",
        "# Pick certain continuous features and plot against the label?"
      ]
    },
    {
      "cell_type": "code",
      "execution_count": null,
      "metadata": {},
      "outputs": [],
      "source": [
        "# Modeling - Decision Tree"
      ]
    },
    {
      "cell_type": "code",
      "execution_count": null,
      "metadata": {},
      "outputs": [],
      "source": [
        "# Modeling - KNN"
      ]
    },
    {
      "cell_type": "code",
      "execution_count": null,
      "metadata": {},
      "outputs": [],
      "source": [
        "# Evaluation"
      ]
    }
  ],
  "metadata": {
    "colab": {
      "provenance": []
    },
    "kernelspec": {
      "display_name": "Python 3",
      "name": "python3"
    },
    "language_info": {
      "codemirror_mode": {
        "name": "ipython",
        "version": 3
      },
      "file_extension": ".py",
      "mimetype": "text/x-python",
      "name": "python",
      "nbconvert_exporter": "python",
      "pygments_lexer": "ipython3",
      "version": "3.9.13"
    }
  },
  "nbformat": 4,
  "nbformat_minor": 0
}
